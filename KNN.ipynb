{
  "nbformat": 4,
  "nbformat_minor": 0,
  "metadata": {
    "colab": {
      "name": "KNN.ipynb",
      "provenance": [],
      "collapsed_sections": [],
      "authorship_tag": "ABX9TyMSIow5zWhrl1n2AY1e1xBa",
      "include_colab_link": true
    },
    "kernelspec": {
      "name": "python3",
      "display_name": "Python 3"
    },
    "language_info": {
      "name": "python"
    }
  },
  "cells": [
    {
      "cell_type": "markdown",
      "metadata": {
        "id": "view-in-github",
        "colab_type": "text"
      },
      "source": [
        "<a href=\"https://colab.research.google.com/github/Ayush330/flask/blob/main/KNN.ipynb\" target=\"_parent\"><img src=\"https://colab.research.google.com/assets/colab-badge.svg\" alt=\"Open In Colab\"/></a>"
      ]
    },
    {
      "cell_type": "code",
      "metadata": {
        "id": "oNX-4EStNC13"
      },
      "source": [
        "import matplotlib.pyplot as plt\n",
        "from sklearn import datasets\n",
        "from sklearn.metrics import accuracy_score\n",
        "#Here we will be performing K-Nearest Neighbour classification algorithm\n",
        "from sklearn.neighbors import KNeighborsClassifier\n",
        "from sklearn.model_selection import train_test_split"
      ],
      "execution_count": 77,
      "outputs": []
    },
    {
      "cell_type": "code",
      "metadata": {
        "id": "-qX_0rk3ObU1"
      },
      "source": [
        "#Here we are importing the iris dataset from sklearn dataset library\n",
        "iris = datasets.load_iris()\n",
        "#Here we are concerned with only two features of the iris dataset\n",
        "x = iris.data[:, :2]  \n",
        "y = iris.target\n",
        "#Here we split the train data and test data in 85:15 ratio\n",
        "x_train,x_test, y_train, y_test=train_test_split(x,y,test_size=0.15)\n",
        "flower_name = ['setosa', 'versicolor', 'virginica']"
      ],
      "execution_count": 67,
      "outputs": []
    },
    {
      "cell_type": "code",
      "metadata": {
        "colab": {
          "base_uri": "https://localhost:8080/"
        },
        "id": "74vpxzgAO30E",
        "outputId": "fd853bcb-6d0d-461e-8560-846245f7c2fb"
      },
      "source": [
        "print(type(x))"
      ],
      "execution_count": 68,
      "outputs": [
        {
          "output_type": "stream",
          "text": [
            "<class 'numpy.ndarray'>\n"
          ],
          "name": "stdout"
        }
      ]
    },
    {
      "cell_type": "code",
      "metadata": {
        "colab": {
          "base_uri": "https://localhost:8080/"
        },
        "id": "Z_3yySGTO5o4",
        "outputId": "fa8f15dd-4fd1-410c-c532-0bd8f016bd16"
      },
      "source": [
        "print(type(y))"
      ],
      "execution_count": 69,
      "outputs": [
        {
          "output_type": "stream",
          "text": [
            "<class 'numpy.ndarray'>\n"
          ],
          "name": "stdout"
        }
      ]
    },
    {
      "cell_type": "code",
      "metadata": {
        "id": "K3zjqZ36PHXJ"
      },
      "source": [
        "#In our model we are using K = 5 and we are giving distributed importance of the weights of the neighbours according to their Euclidean Distance.\n",
        "KNNModel = KNeighborsClassifier(n_neighbors=10,p=2,weights='distance')"
      ],
      "execution_count": 70,
      "outputs": []
    },
    {
      "cell_type": "code",
      "metadata": {
        "colab": {
          "base_uri": "https://localhost:8080/"
        },
        "id": "zTLlLcyLSlKb",
        "outputId": "956ffa98-9d0f-455e-ce66-447d585088d9"
      },
      "source": [
        "KNNModel.fit(x_train,y_train)\n",
        "#predicted y\n",
        "y_predicted = KNNModel.predict(x_test)\n",
        "decision_acc = (accuracy_score(y_test, y_predicted) * 100)\n",
        "print(\"Accuracy of Decision tree  : \", decision_acc)\n",
        "#Finding the training accuracy of our model\n",
        "accuracy_train = KNNModel.score(x_train,y_train)\n",
        "#Printing the training accuracy\n",
        "print(\"Train data Accuracy of the model is: \",accuracy_train*100,\"% .\")\n",
        "accuracy_test = KNNModel.score(x_test,y_test)\n",
        "#Printing the tseting accuracy\n",
        "print(\"Test data Accuracy of the model is: \",accuracy_test*100,\"% .\")"
      ],
      "execution_count": 79,
      "outputs": [
        {
          "output_type": "stream",
          "text": [
            "Accuracy of Decision tree  :  69.56521739130434\n",
            "Train data Accuracy of the model is:  93.7007874015748 % .\n",
            "Test data Accuracy of the model is:  69.56521739130434 % .\n"
          ],
          "name": "stdout"
        }
      ]
    },
    {
      "cell_type": "code",
      "metadata": {
        "id": "0sLLpOW9SoBz"
      },
      "source": [
        "sample_data = [[4.9,2.4]]"
      ],
      "execution_count": 72,
      "outputs": []
    },
    {
      "cell_type": "code",
      "metadata": {
        "id": "SBP7aTNGTtkH"
      },
      "source": [
        "flower_class = KNNModel.predict(sample_data)\n",
        "inference_accuracy = KNNModel.predict_proba(sample_data)"
      ],
      "execution_count": 73,
      "outputs": []
    },
    {
      "cell_type": "code",
      "metadata": {
        "colab": {
          "base_uri": "https://localhost:8080/"
        },
        "id": "L2YhGvVjUbpR",
        "outputId": "a8a1bd77-0fba-4ea9-c757-20a33d0bea36"
      },
      "source": [
        "print(\"The predicted flower is: \",flower_name[flower_class[0]],\" .\")"
      ],
      "execution_count": 74,
      "outputs": [
        {
          "output_type": "stream",
          "text": [
            "The predicted flower is:  versicolor  .\n"
          ],
          "name": "stdout"
        }
      ]
    }
  ]
}